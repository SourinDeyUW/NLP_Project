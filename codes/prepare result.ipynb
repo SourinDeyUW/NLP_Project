{
 "cells": [
  {
   "cell_type": "code",
   "execution_count": 7,
   "id": "ec994703",
   "metadata": {},
   "outputs": [
    {
     "data": {
      "text/plain": [
       "(35125, 5)"
      ]
     },
     "execution_count": 7,
     "metadata": {},
     "output_type": "execute_result"
    }
   ],
   "source": [
    "import pandas as pd,numpy as np,os,glob,spacy\n",
    "\n",
    "\n",
    "df=pd.read_csv('predicted_result.csv')\n",
    "\n",
    "df.shape"
   ]
  },
  {
   "cell_type": "code",
   "execution_count": 8,
   "id": "ebdedafd",
   "metadata": {},
   "outputs": [
    {
     "data": {
      "text/plain": [
       "array([  0,   1,   2,   3,   4,   5,   6,   7,   8,   9,  10,  11,  12,\n",
       "        13,  14,  15,  16,  17,  18,  19,  20,  21,  22,  23,  24,  25,\n",
       "        26,  27,  28,  29,  30,  31,  32,  33,  34,  35,  36,  37,  38,\n",
       "        39,  40,  41,  42,  43,  44,  45,  46,  47,  48,  49,  50,  51,\n",
       "        52,  53,  54,  55,  56,  57,  58,  59,  60,  61,  62,  63,  64,\n",
       "        65,  66,  67,  68,  69,  70,  71,  72,  73,  74,  75,  76,  77,\n",
       "        78,  79,  80,  81,  82,  83,  84,  85,  86,  87,  88,  89,  90,\n",
       "        91,  92,  93,  94,  95,  96,  97,  98,  99, 100, 101, 102, 103,\n",
       "       104, 105, 106, 107, 108, 109, 110, 111, 112, 113, 114, 115, 116,\n",
       "       117, 118, 119, 120, 121, 122, 123, 124, 125, 126, 127, 128, 129,\n",
       "       130, 131, 132, 133, 134, 135, 136, 137, 138, 139, 140, 141, 142,\n",
       "       143, 144, 145, 146, 147, 148, 149, 150, 151, 152, 153, 154, 155,\n",
       "       156, 157, 158, 159, 160, 161, 162, 163, 164, 165, 166, 167, 168,\n",
       "       169, 170, 171, 172, 173, 174, 175, 176, 177, 178, 179, 180, 181,\n",
       "       182, 183, 184, 185, 186, 187, 188, 189, 190, 191, 192, 193, 194,\n",
       "       195, 196, 197, 198, 199, 200])"
      ]
     },
     "execution_count": 8,
     "metadata": {},
     "output_type": "execute_result"
    }
   ],
   "source": [
    "df['abstract_idx'].unique()"
   ]
  },
  {
   "cell_type": "markdown",
   "id": "71bd1bf4",
   "metadata": {},
   "source": [
    "There are 200 abstracts. Index 60 to 79 contain non-solar abstract. \n",
    "The below code checks how many of them contain solar synthesis info.\n",
    "The csv file is prepared after code finishes running in hyperion."
   ]
  },
  {
   "cell_type": "code",
   "execution_count": 6,
   "id": "99534e8f",
   "metadata": {},
   "outputs": [
    {
     "name": "stderr",
     "output_type": "stream",
     "text": [
      "/tmp/ipykernel_20635/2948815325.py:7: UserWarning: Boolean Series key will be reindexed to match DataFrame index.\n",
      "  df2=dff[df['sentence_idx']==query[i2]]\n"
     ]
    },
    {
     "name": "stdout",
     "output_type": "stream",
     "text": [
      "number of abstracts detected solar info out of 180: 115\n",
      "detected solar info mistakenly  11\n"
     ]
    }
   ],
   "source": [
    "def analyze(df,abs_ix): \n",
    "    dff=df[df['abstract_idx']==abs_ix]\n",
    "    query=dff['sentence_idx'].unique()\n",
    "    flag=0\n",
    "    yes=0\n",
    "    for i2 in range(len(query)):\n",
    "        df2=dff[df['sentence_idx']==query[i2]]\n",
    "        ent=df2['predicted'].unique()\n",
    "        if 'I' and 'B' in ent:flag+=1\n",
    "\n",
    "        if flag>=1:\n",
    "            yes=1\n",
    "\n",
    "    return yes\n",
    "\n",
    "sum_solar=0\n",
    "sum_other=0\n",
    "for x in range(200):\n",
    "    if x>60 and x <80: ## from 60 to 80 are non-solar abstracts\n",
    "        res=analyze(df,x)\n",
    "        sum_other+=res\n",
    "        continue\n",
    "    res=analyze(df,x)\n",
    "    sum_solar+=res\n",
    "    \n",
    "print('number of abstracts detected solar info out of 180:',sum_solar)\n",
    "print('detected solar info mistakenly ',sum_other)"
   ]
  },
  {
   "cell_type": "code",
   "execution_count": null,
   "id": "c26bba81",
   "metadata": {},
   "outputs": [],
   "source": []
  }
 ],
 "metadata": {
  "kernelspec": {
   "display_name": "nlp_project",
   "language": "python",
   "name": "nlp_project"
  },
  "language_info": {
   "codemirror_mode": {
    "name": "ipython",
    "version": 3
   },
   "file_extension": ".py",
   "mimetype": "text/x-python",
   "name": "python",
   "nbconvert_exporter": "python",
   "pygments_lexer": "ipython3",
   "version": "3.8.10"
  }
 },
 "nbformat": 4,
 "nbformat_minor": 5
}
