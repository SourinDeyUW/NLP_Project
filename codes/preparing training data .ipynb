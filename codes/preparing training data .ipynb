{
 "cells": [
  {
   "cell_type": "markdown",
   "id": "ad4af46c",
   "metadata": {},
   "source": [
    "### Part A. The way I downloaded the dataset"
   ]
  },
  {
   "cell_type": "code",
   "execution_count": 17,
   "id": "71803fff",
   "metadata": {},
   "outputs": [
    {
     "name": "stderr",
     "output_type": "stream",
     "text": [
      "2022-12-05 17:11:09.269073: W tensorflow/stream_executor/platform/default/dso_loader.cc:64] Could not load dynamic library 'libcudart.so.11.0'; dlerror: libcudart.so.11.0: cannot open shared object file: No such file or directory\n",
      "2022-12-05 17:11:09.269090: I tensorflow/stream_executor/cuda/cudart_stub.cc:29] Ignore above cudart dlerror if you do not have a GPU set up on your machine.\n",
      "/home/sourin/.local/lib/python3.8/site-packages/IPython/core/interactiveshell.py:3172: DtypeWarning: Columns (10,29,31,32,35,36,40,44,45,46,48,51,54,65,84,89,90,93,98,99,100,105,108,115,118,122,123,125,130,134,138,142,143,144,146,149,152,163,166,167,171,172,173,175,178,181,192,194,225,271,272,273,277,315,335,336,342,348,371,373,374,376,380,384,387) have mixed types. Specify dtype option on import or set low_memory=False.\n",
      "  has_raised = await self.run_ast_nodes(code_ast.body, cell_name,\n"
     ]
    }
   ],
   "source": [
    "import pandas as pd,numpy as np,os,glob\n",
    "import spacy\n",
    "df=pd.read_csv('Historic dataset on 2020 11 22_v7_Compleat.csv')"
   ]
  },
  {
   "cell_type": "code",
   "execution_count": 11,
   "id": "f666fa64",
   "metadata": {},
   "outputs": [
    {
     "name": "stdout",
     "output_type": "stream",
     "text": [
      "10.3390/nano9091220\n"
     ]
    }
   ],
   "source": [
    "for x1,x2 in enumerate(df['Ref_DOI_number'].unique()):\n",
    "    if x1==200:print(x2) #prints the doi of which I search the abstract"
   ]
  },
  {
   "cell_type": "code",
   "execution_count": null,
   "id": "0c43664c",
   "metadata": {},
   "outputs": [],
   "source": [
    "## the above printed doi is searched and the corresponding abstract is copy and pasted as in the following cell."
   ]
  },
  {
   "cell_type": "code",
   "execution_count": 12,
   "id": "bd8ab20a",
   "metadata": {},
   "outputs": [],
   "source": [
    "# f contains all the 200 downloaded abstracts\n",
    "f=pd.read_csv('project_abs.csv')\n",
    "\n",
    "\n",
    "f.loc[200,'text']='The mesoporous TiO2 nanoparticle-based scaffold structure is the best electron transport layer (ETL) for perovskite solar cells (PSCs) and is still used in most PSCs with optimal photovoltaic characteristics. However, the high sintering temperature of TiO2 nanoparticles required to remove binders from the TiO2 paste limits PSC application to flexible electronics. In this study, a simple interface modification process involving ethanol rinsing is developed to enhance the photovoltaic characteristics of low-temperature processed PSCs. This easy and fast technique could enable remarkable performance by PSCs by significantly increasing the fill factor and current density, leading to a power conversion efficiency more than four times that of untreated solar cells'\n",
    "print(f.tail(5))\n",
    "#f.to_csv('project_abs.csv',index=False)"
   ]
  },
  {
   "cell_type": "code",
   "execution_count": 18,
   "id": "fa06569e",
   "metadata": {
    "scrolled": true
   },
   "outputs": [
    {
     "data": {
      "text/html": [
       "<div>\n",
       "<style scoped>\n",
       "    .dataframe tbody tr th:only-of-type {\n",
       "        vertical-align: middle;\n",
       "    }\n",
       "\n",
       "    .dataframe tbody tr th {\n",
       "        vertical-align: top;\n",
       "    }\n",
       "\n",
       "    .dataframe thead th {\n",
       "        text-align: right;\n",
       "    }\n",
       "</style>\n",
       "<table border=\"1\" class=\"dataframe\">\n",
       "  <thead>\n",
       "    <tr style=\"text-align: right;\">\n",
       "      <th></th>\n",
       "      <th>text</th>\n",
       "    </tr>\n",
       "  </thead>\n",
       "  <tbody>\n",
       "    <tr>\n",
       "      <th>0</th>\n",
       "      <td>In</td>\n",
       "    </tr>\n",
       "    <tr>\n",
       "      <th>1</th>\n",
       "      <td>the</td>\n",
       "    </tr>\n",
       "    <tr>\n",
       "      <th>2</th>\n",
       "      <td>present</td>\n",
       "    </tr>\n",
       "    <tr>\n",
       "      <th>3</th>\n",
       "      <td>study,</td>\n",
       "    </tr>\n",
       "    <tr>\n",
       "      <th>4</th>\n",
       "      <td>Er</td>\n",
       "    </tr>\n",
       "    <tr>\n",
       "      <th>...</th>\n",
       "      <td>...</td>\n",
       "    </tr>\n",
       "    <tr>\n",
       "      <th>9427</th>\n",
       "      <td>of</td>\n",
       "    </tr>\n",
       "    <tr>\n",
       "      <th>9428</th>\n",
       "      <td>low-temperature</td>\n",
       "    </tr>\n",
       "    <tr>\n",
       "      <th>9429</th>\n",
       "      <td>processed</td>\n",
       "    </tr>\n",
       "    <tr>\n",
       "      <th>9430</th>\n",
       "      <td>PSCs.</td>\n",
       "    </tr>\n",
       "    <tr>\n",
       "      <th>9431</th>\n",
       "      <td></td>\n",
       "    </tr>\n",
       "  </tbody>\n",
       "</table>\n",
       "<p>9432 rows × 1 columns</p>\n",
       "</div>"
      ],
      "text/plain": [
       "                 text\n",
       "0                  In\n",
       "1                 the\n",
       "2             present\n",
       "3              study,\n",
       "4                  Er\n",
       "...               ...\n",
       "9427               of\n",
       "9428  low-temperature\n",
       "9429        processed\n",
       "9430            PSCs.\n",
       "9431                 \n",
       "\n",
       "[9432 rows x 1 columns]"
      ]
     },
     "execution_count": 18,
     "metadata": {},
     "output_type": "execute_result"
    }
   ],
   "source": [
    "d2=pd.DataFrame(columns=['text'])\n",
    "\n",
    "def find(sen,id1):\n",
    "    \n",
    "    nlp = spacy.load('en_core_web_sm')\n",
    "    doc = nlp(sen)\n",
    "    sen=list(doc.sents)\n",
    "    names=['added','fabricate','synthesized','prepared','produced','process','synthesize','improve','manufactured']\n",
    "    names2=[ps.stem(i) for i in names]\n",
    "    rcv=[]\n",
    "#     print(names2)\n",
    "    for x1,x2 in enumerate(sen):\n",
    "        x2=str(x2).split(' ')\n",
    "        for x3,x4 in enumerate(x2):\n",
    "#             print(ps.stem(x4))\n",
    "            if ps.stem(x4) in names2:\n",
    "#                 print(x2,' id:',id1)\n",
    "                rcv.append(x2)\n",
    "                break\n",
    "    return rcv\n",
    "\n",
    "store=[]\n",
    "for id1,x in enumerate(f['text']):\n",
    "    t=find(x,id1)\n",
    "    if len(t)!=0:\n",
    "        if len(t)>1:\n",
    "            for x5 in t:\n",
    "                store.append(x5)\n",
    "        else:\n",
    "            store.append(t[0])\n",
    "ctr=0\n",
    "for p1,p2 in enumerate(store):\n",
    "    p2.append(' ')\n",
    "    for p3 in p2:\n",
    "        d2.loc[ctr,'text']=p3\n",
    "        ctr+=1\n",
    "d2.head()"
   ]
  },
  {
   "cell_type": "markdown",
   "id": "d797e1d5",
   "metadata": {},
   "source": [
    "### Part B. the downloaded 200 abstracts which I saved in the train.csv file"
   ]
  },
  {
   "cell_type": "code",
   "execution_count": 8,
   "id": "621e5885",
   "metadata": {},
   "outputs": [
    {
     "data": {
      "text/plain": [
       "(4914, 2)"
      ]
     },
     "execution_count": 8,
     "metadata": {},
     "output_type": "execute_result"
    }
   ],
   "source": [
    "df=pd.read_csv('train.csv')\n",
    "df.shape"
   ]
  },
  {
   "cell_type": "markdown",
   "id": "96d1558e",
   "metadata": {},
   "source": [
    "Labeling the words synonymous to \"grown\" and stemming them in the dataset. Following is the list.\n",
    "\n",
    "### 'added','fabricate','synthesized','prepared','produced','process','synthesize','improve','manufactured' \n",
    "\n"
   ]
  },
  {
   "cell_type": "code",
   "execution_count": 9,
   "id": "c11d2625",
   "metadata": {},
   "outputs": [
    {
     "name": "stderr",
     "output_type": "stream",
     "text": [
      "<frozen importlib._bootstrap>:219: RuntimeWarning: scipy._lib.messagestream.MessageStream size changed, may indicate binary incompatibility. Expected 56 from C header, got 64 from PyObject\n"
     ]
    },
    {
     "name": "stdout",
     "output_type": "stream",
     "text": [
      "['ad', 'fabric', 'synthes', 'prepar', 'produc', 'process', 'synthes', 'improv', 'manufactur']\n"
     ]
    }
   ],
   "source": [
    "from nltk.stem import PorterStemmer\n",
    "from nltk.tokenize import word_tokenize\n",
    "  \n",
    "ps = PorterStemmer()\n",
    "\n",
    "names=['added','fabricate','synthesized','prepared','produced','process','synthesize','improve','manufactured']\n",
    "names2=[ps.stem(i) for i in names]\n",
    "\n",
    "print(names2)"
   ]
  },
  {
   "cell_type": "markdown",
   "id": "7fb66223",
   "metadata": {},
   "source": [
    "## Part C. Labelling the words in the dataset\n",
    "\n",
    "### chemical elements as B\n",
    "### members of names2 as I\n",
    "### other words as O"
   ]
  },
  {
   "cell_type": "code",
   "execution_count": 19,
   "id": "d2bf97af",
   "metadata": {},
   "outputs": [],
   "source": [
    "\n",
    "label_p=[i1 for i1,i2 in enumerate(d2['text']) if '3' in i2 and len(i2)>=4 or 'pero' in i2 or 'PSC' in i2]\n",
    "len(label_p)\n",
    "\n",
    "label_m=[i1 for i1,i2 in enumerate(d2['text']) if ps.stem(i2) in names2]\n",
    "\n",
    "for a1,a2 in enumerate(d2['text']):\n",
    "    if a1 in label_p:\n",
    "        d2.loc[a1,'label']='B'\n",
    "    elif a1 in label_m:\n",
    "        d2.loc[a1,'label']='I'\n",
    "    else: d2.loc[a1,'label']='O'\n",
    "        \n"
   ]
  },
  {
   "cell_type": "code",
   "execution_count": 20,
   "id": "073d7075",
   "metadata": {
    "scrolled": true
   },
   "outputs": [
    {
     "data": {
      "text/html": [
       "<div>\n",
       "<style scoped>\n",
       "    .dataframe tbody tr th:only-of-type {\n",
       "        vertical-align: middle;\n",
       "    }\n",
       "\n",
       "    .dataframe tbody tr th {\n",
       "        vertical-align: top;\n",
       "    }\n",
       "\n",
       "    .dataframe thead th {\n",
       "        text-align: right;\n",
       "    }\n",
       "</style>\n",
       "<table border=\"1\" class=\"dataframe\">\n",
       "  <thead>\n",
       "    <tr style=\"text-align: right;\">\n",
       "      <th></th>\n",
       "      <th>text</th>\n",
       "      <th>label</th>\n",
       "    </tr>\n",
       "  </thead>\n",
       "  <tbody>\n",
       "    <tr>\n",
       "      <th>0</th>\n",
       "      <td>In</td>\n",
       "      <td>O</td>\n",
       "    </tr>\n",
       "    <tr>\n",
       "      <th>1</th>\n",
       "      <td>the</td>\n",
       "      <td>O</td>\n",
       "    </tr>\n",
       "    <tr>\n",
       "      <th>2</th>\n",
       "      <td>present</td>\n",
       "      <td>O</td>\n",
       "    </tr>\n",
       "    <tr>\n",
       "      <th>3</th>\n",
       "      <td>study,</td>\n",
       "      <td>O</td>\n",
       "    </tr>\n",
       "    <tr>\n",
       "      <th>4</th>\n",
       "      <td>Er</td>\n",
       "      <td>O</td>\n",
       "    </tr>\n",
       "    <tr>\n",
       "      <th>...</th>\n",
       "      <td>...</td>\n",
       "      <td>...</td>\n",
       "    </tr>\n",
       "    <tr>\n",
       "      <th>9427</th>\n",
       "      <td>of</td>\n",
       "      <td>O</td>\n",
       "    </tr>\n",
       "    <tr>\n",
       "      <th>9428</th>\n",
       "      <td>low-temperature</td>\n",
       "      <td>O</td>\n",
       "    </tr>\n",
       "    <tr>\n",
       "      <th>9429</th>\n",
       "      <td>processed</td>\n",
       "      <td>I</td>\n",
       "    </tr>\n",
       "    <tr>\n",
       "      <th>9430</th>\n",
       "      <td>PSCs.</td>\n",
       "      <td>B</td>\n",
       "    </tr>\n",
       "    <tr>\n",
       "      <th>9431</th>\n",
       "      <td></td>\n",
       "      <td>O</td>\n",
       "    </tr>\n",
       "  </tbody>\n",
       "</table>\n",
       "<p>9432 rows × 2 columns</p>\n",
       "</div>"
      ],
      "text/plain": [
       "                 text label\n",
       "0                  In     O\n",
       "1                 the     O\n",
       "2             present     O\n",
       "3              study,     O\n",
       "4                  Er     O\n",
       "...               ...   ...\n",
       "9427               of     O\n",
       "9428  low-temperature     O\n",
       "9429        processed     I\n",
       "9430            PSCs.     B\n",
       "9431                      O\n",
       "\n",
       "[9432 rows x 2 columns]"
      ]
     },
     "execution_count": 20,
     "metadata": {},
     "output_type": "execute_result"
    }
   ],
   "source": [
    "d2"
   ]
  },
  {
   "cell_type": "markdown",
   "id": "220c3268",
   "metadata": {},
   "source": [
    "## Part D. Now merge them with BC4CHEMD dataset"
   ]
  },
  {
   "cell_type": "code",
   "execution_count": 21,
   "id": "d3cea61b",
   "metadata": {},
   "outputs": [
    {
     "data": {
      "text/plain": [
       "(893685, 2)"
      ]
     },
     "execution_count": 21,
     "metadata": {},
     "output_type": "execute_result"
    }
   ],
   "source": [
    "import csv\n",
    "df_p = pd.read_csv('parent_train.tsv', header = None, delimiter=\"\\t\", quoting=csv.QUOTE_NONE, encoding='utf-8')\n",
    "\n",
    "df_p.shape"
   ]
  },
  {
   "cell_type": "markdown",
   "id": "014dbfde",
   "metadata": {},
   "source": [
    "#### stem the words present in this big data only for label I"
   ]
  },
  {
   "cell_type": "code",
   "execution_count": null,
   "id": "1e4ca56a",
   "metadata": {},
   "outputs": [],
   "source": [
    "for x1,x2 in enumerate(df[df.columns[0]]):\n",
    "    try:\n",
    "        if ps.stem(x2) in names2:\n",
    "            k+=1\n",
    "            print(x2,ps.stem(x2))\n",
    "            df_p[df_p.columns[1]][x1]='I'\n",
    "    except:\n",
    "        print(\"this made issue {}\".format(x2))"
   ]
  },
  {
   "cell_type": "code",
   "execution_count": 22,
   "id": "467e7f22",
   "metadata": {},
   "outputs": [],
   "source": [
    "x5=df_p[df_p.columns[0]].to_numpy()\n",
    "x6=df_p[df_p.columns[1]].to_numpy()"
   ]
  },
  {
   "cell_type": "markdown",
   "id": "5a58b96b",
   "metadata": {},
   "source": [
    "### merge d2 with parent df_p"
   ]
  },
  {
   "cell_type": "code",
   "execution_count": 23,
   "id": "b5cfc1f5",
   "metadata": {
    "scrolled": false
   },
   "outputs": [
    {
     "data": {
      "text/html": [
       "<div>\n",
       "<style scoped>\n",
       "    .dataframe tbody tr th:only-of-type {\n",
       "        vertical-align: middle;\n",
       "    }\n",
       "\n",
       "    .dataframe tbody tr th {\n",
       "        vertical-align: top;\n",
       "    }\n",
       "\n",
       "    .dataframe thead th {\n",
       "        text-align: right;\n",
       "    }\n",
       "</style>\n",
       "<table border=\"1\" class=\"dataframe\">\n",
       "  <thead>\n",
       "    <tr style=\"text-align: right;\">\n",
       "      <th></th>\n",
       "      <th>text</th>\n",
       "      <th>label</th>\n",
       "    </tr>\n",
       "  </thead>\n",
       "  <tbody>\n",
       "    <tr>\n",
       "      <th>0</th>\n",
       "      <td>In</td>\n",
       "      <td>O</td>\n",
       "    </tr>\n",
       "    <tr>\n",
       "      <th>1</th>\n",
       "      <td>the</td>\n",
       "      <td>O</td>\n",
       "    </tr>\n",
       "    <tr>\n",
       "      <th>2</th>\n",
       "      <td>present</td>\n",
       "      <td>O</td>\n",
       "    </tr>\n",
       "    <tr>\n",
       "      <th>3</th>\n",
       "      <td>study,</td>\n",
       "      <td>O</td>\n",
       "    </tr>\n",
       "    <tr>\n",
       "      <th>4</th>\n",
       "      <td>Er</td>\n",
       "      <td>O</td>\n",
       "    </tr>\n",
       "    <tr>\n",
       "      <th>5</th>\n",
       "      <td>and</td>\n",
       "      <td>O</td>\n",
       "    </tr>\n",
       "    <tr>\n",
       "      <th>6</th>\n",
       "      <td>Yb</td>\n",
       "      <td>O</td>\n",
       "    </tr>\n",
       "    <tr>\n",
       "      <th>7</th>\n",
       "      <td>co-doped</td>\n",
       "      <td>O</td>\n",
       "    </tr>\n",
       "    <tr>\n",
       "      <th>8</th>\n",
       "      <td>TiO2</td>\n",
       "      <td>O</td>\n",
       "    </tr>\n",
       "    <tr>\n",
       "      <th>9</th>\n",
       "      <td>(Er-Yb:TiO2)</td>\n",
       "      <td>O</td>\n",
       "    </tr>\n",
       "  </tbody>\n",
       "</table>\n",
       "</div>"
      ],
      "text/plain": [
       "           text label\n",
       "0            In     O\n",
       "1           the     O\n",
       "2       present     O\n",
       "3        study,     O\n",
       "4            Er     O\n",
       "5           and     O\n",
       "6            Yb     O\n",
       "7      co-doped     O\n",
       "8          TiO2     O\n",
       "9  (Er-Yb:TiO2)     O"
      ]
     },
     "execution_count": 23,
     "metadata": {},
     "output_type": "execute_result"
    }
   ],
   "source": [
    "\n",
    "\n",
    "df3=pd.DataFrame(columns=['text','label'])\n",
    "df3['text']=x5\n",
    "df3['label']=x6\n",
    "df4=d2.append(df3)\n",
    "df4=df4.reset_index(drop=True)\n",
    "\n",
    "df4.head(10)"
   ]
  },
  {
   "cell_type": "code",
   "execution_count": 26,
   "id": "41b36adf",
   "metadata": {},
   "outputs": [
    {
     "data": {
      "text/plain": [
       "(903117, 2)"
      ]
     },
     "execution_count": 26,
     "metadata": {},
     "output_type": "execute_result"
    }
   ],
   "source": [
    "df4.shape"
   ]
  },
  {
   "cell_type": "code",
   "execution_count": 27,
   "id": "b9127164",
   "metadata": {},
   "outputs": [],
   "source": [
    "df4.to_csv('df4.csv',index=False)"
   ]
  },
  {
   "cell_type": "markdown",
   "id": "944c171c",
   "metadata": {},
   "source": [
    "### save it as tsv because bio-bert format requires it"
   ]
  },
  {
   "cell_type": "code",
   "execution_count": 28,
   "id": "8ba917ba",
   "metadata": {},
   "outputs": [],
   "source": [
    "with open('df4.csv','r') as csvin, open('train.tsv', 'w') as tsvout:\n",
    "    csvin = csv.reader(csvin)\n",
    "    tsvout = csv.writer(tsvout, delimiter='\\t')\n",
    "\n",
    "    for row in csvin:\n",
    "        tsvout.writerow(row)"
   ]
  }
 ],
 "metadata": {
  "kernelspec": {
   "display_name": "nlp_project",
   "language": "python",
   "name": "nlp_project"
  },
  "language_info": {
   "codemirror_mode": {
    "name": "ipython",
    "version": 3
   },
   "file_extension": ".py",
   "mimetype": "text/x-python",
   "name": "python",
   "nbconvert_exporter": "python",
   "pygments_lexer": "ipython3",
   "version": "3.8.10"
  }
 },
 "nbformat": 4,
 "nbformat_minor": 5
}
